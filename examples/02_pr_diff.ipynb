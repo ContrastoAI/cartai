{
 "cells": [
  {
   "cell_type": "code",
   "execution_count": 4,
   "metadata": {},
   "outputs": [],
   "source": [
    "import subprocess\n",
    "\n",
    "diff = subprocess.check_output([\"git\", \"diff\", \"origin/main...HEAD\"]).decode(\"utf-8\")\n"
   ]
  },
  {
   "cell_type": "code",
   "execution_count": 5,
   "metadata": {},
   "outputs": [
    {
     "name": "stdout",
     "output_type": "stream",
     "text": [
      "diff --git a/cartai/llm_agents/templates/pr_diff.jinja b/cartai/llm_agents/templates/pr_diff.jinja\n",
      "new file mode 100644\n",
      "index 0000000..154bc76\n",
      "--- /dev/null\n",
      "+++ b/cartai/llm_agents/templates/pr_diff.jinja\n",
      "@@ -0,0 +1,23 @@\n",
      "+You are a helpful code reviewer. Your task is to analyze the following pull request diff and provide a clear, concise summary.\n",
      "+\n",
      "+The diff is from a pull request: {{ pr_title }}\n",
      "+\n",
      "+{% if description %}\n",
      "+Pull Request Description:\n",
      "+{{ description }}\n",
      "+{% endif %}\n",
      "+\n",
      "+Files changed:\n",
      "+{% for file in files %}\n",
      "+- {{ file.path }} ({{ file.changes }} changes)\n",
      "+{% endfor %}\n",
      "+\n",
      "+Diff content:\n",
      "+{{ diff }}\n",
      "+\n",
      "+Please provide:\n",
      "+1. A brief summary of the main changes (2-3 sentences)\n",
      "+2. Key modifications by category (e.g., features, bug fixes, refactoring)\n",
      "+3. Any potential concerns or areas that need attention\n",
      "+\n",
      "+Focus on the most important changes and their impact. Be concise but thorough.\n",
      "\\ No newline at end of file\n",
      "\n"
     ]
    }
   ],
   "source": [
    "print(diff)"
   ]
  },
  {
   "cell_type": "code",
   "execution_count": 6,
   "metadata": {},
   "outputs": [
    {
     "data": {
      "text/plain": [
       "'You are a helpful code reviewer. Your task is to analyze the following pull request diff and provide a clear, concise summary.\\n\\nThe diff is from a pull request: Add new feature\\n\\n\\nPull Request Description:\\nAdd a new feature to the project\\n\\n\\n\\n\\nDiff content:\\ndiff --git a/cartai/llm_agents/templates/pr_diff.jinja b/cartai/llm_agents/templates/pr_diff.jinja\\nnew file mode 100644\\nindex 0000000..154bc76\\n--- /dev/null\\n+++ b/cartai/llm_agents/templates/pr_diff.jinja\\n@@ -0,0 +1,23 @@\\n+You are a helpful code reviewer. Your task is to analyze the following pull request diff and provide a clear, concise summary.\\n+\\n+The diff is from a pull request: {{ pr_title }}\\n+\\n+{% if description %}\\n+Pull Request Description:\\n+{{ description }}\\n+{% endif %}\\n+\\n+Files changed:\\n+{% for file in files %}\\n+- {{ file.path }} ({{ file.changes }} changes)\\n+{% endfor %}\\n+\\n+Diff content:\\n+{{ diff }}\\n+\\n+Please provide:\\n+1. A brief summary of the main changes (2-3 sentences)\\n+2. Key modifications by category (e.g., features, bug fixes, refactoring)\\n+3. Any potential concerns or areas that need attention\\n+\\n+Focus on the most important changes and their impact. Be concise but thorough.\\n\\\\ No newline at end of file\\n\\n\\nPlease provide:\\n1. A brief summary of the main changes (2-3 sentences)\\n2. Key modifications by category (e.g., features, bug fixes, refactoring)\\n3. Any potential concerns or areas that need attention\\n\\nFocus on the most important changes and their impact. Be concise but thorough.'"
      ]
     },
     "execution_count": 6,
     "metadata": {},
     "output_type": "execute_result"
    }
   ],
   "source": [
    "from cartai.llm_agents.documenter import AIDocumenter\n",
    "\n",
    "documenter = AIDocumenter()\n",
    "documenter._load_template(\"pr_diff.jinja\").render(\n",
    "    {\n",
    "        \"pr_title\": \"Add new feature\",\n",
    "        \"description\": \"Add a new feature to the project\",\n",
    "        \"diff\": diff,\n",
    "    },\n",
    ")"
   ]
  },
  {
   "cell_type": "code",
   "execution_count": 8,
   "metadata": {},
   "outputs": [],
   "source": [
    "llm_output = documenter.generate(\n",
    "    \"pr_diff.jinja\",\n",
    "    {\n",
    "        \"pr_title\": \"Add new feature\",\n",
    "        \"description\": \"Add a new feature to the project\",\n",
    "        \"diff\": diff,\n",
    "    },\n",
    ")"
   ]
  },
  {
   "cell_type": "code",
   "execution_count": 10,
   "metadata": {},
   "outputs": [
    {
     "name": "stdout",
     "output_type": "stream",
     "text": [
      "### Summary of Main Changes:\n",
      "This pull request introduces a new template file (`pr_diff.jinja`) for generating summaries of pull request diffs in the project. The template is designed to help code reviewers provide concise feedback by outlining the main changes, files affected, and any potential concerns.\n",
      "\n",
      "### Key Modifications by Category:\n",
      "- **Features**: \n",
      "  - Added a new Jinja template (`pr_diff.jinja`) for summarizing pull request diffs.\n",
      "  - The template includes placeholders for pull request titles, descriptions, files changed, and a structured format for reviewer feedback.\n",
      "\n",
      "### Potential Concerns or Areas That Need Attention:\n",
      "- Ensure that the template is integrated correctly with existing workflows for pull requests.\n",
      "- Verify that the generated summaries are clear and useful for reviewers, potentially requiring user feedback for improvements.\n",
      "- Consider edge cases where descriptions or files might be absent and how the template handles those scenarios.\n"
     ]
    }
   ],
   "source": [
    "print(llm_output)"
   ]
  },
  {
   "cell_type": "code",
   "execution_count": 14,
   "metadata": {},
   "outputs": [
    {
     "data": {
      "text/plain": [
       "'📁 ../\\n  📄 .env.example\\n  📁 .github/\\n    📁 workflows/\\n      📄 pre-commit.yaml\\n  📄 .pre-commit-config.yaml\\n  📄 .python-version\\n  📁 cartai/\\n    📄 __init__.py\\n    📁 adapters/\\n    📁 cli/\\n      📁 commands/\\n        📄 __init__.py\\n        📄 pr_diff.py\\n        📄 readme.py\\n      📄 main.py\\n    📁 core/\\n      📄 __init__.py\\n      📄 code_parser.py\\n    📁 lineage/\\n    📁 llm_agents/\\n      📄 __init__.py\\n      📄 documenter.py\\n      📁 templates/\\n        📄 pr_diff.jinja\\n        📄 readme.jinja\\n      📄 utils.py\\n  📄 LICENSE\\n  📁 llm_agents/\\n    📁 templates/\\n  📄 Makefile\\n  📄 pyproject.toml\\n  📄 README.md\\n  📄 uv.lock'"
      ]
     },
     "execution_count": 14,
     "metadata": {},
     "output_type": "execute_result"
    }
   ],
   "source": [
    "from cartai.core.code_parser import ProjectParser\n",
    "\n",
    "\n",
    "parser = ProjectParser(\n",
    "    include_basic_entities=True,\n",
    ")\n",
    "\n",
    "project_structure_summary = parser.get_summary(\"../\")\n",
    "project_structure_summary"
   ]
  },
  {
   "cell_type": "code",
   "execution_count": 15,
   "metadata": {},
   "outputs": [],
   "source": [
    "llm_output_w_code = documenter.generate(\n",
    "    \"pr_diff.jinja\",\n",
    "    {\n",
    "        \"pr_title\": \"Add new feature\",\n",
    "        \"description\": \"Add a new feature to the project\",\n",
    "        \"diff\": diff,\n",
    "        \"project_code\": project_structure_summary,\n",
    "    },\n",
    ")"
   ]
  },
  {
   "cell_type": "code",
   "execution_count": 17,
   "metadata": {},
   "outputs": [
    {
     "name": "stdout",
     "output_type": "stream",
     "text": [
      "### Pull Request Summary\n",
      "\n",
      "1. **Brief Summary of the Main Changes:**\n",
      "   This pull request introduces a new Jinja template file (`pr_diff.jinja`) to the `cartai/llm_agents/templates` directory, which is designed to aid in generating summaries for pull request diffs. The template includes sections for the pull request title, description, files changed, and diff content, as well as prompts for code reviewers to provide feedback.\n",
      "\n",
      "2. **Key Modifications by Category:**\n",
      "   - **Feature Addition:** A new template file (`pr_diff.jinja`) has been added to streamline the code review process by providing a structured format for summarizing pull requests.\n",
      "\n",
      "3. **Potential Concerns or Areas That Need Attention:**\n",
      "   - **Template Usage:** Ensure that the new template is integrated properly into the existing workflow for pull request reviews. It may be beneficial to provide documentation or examples on how to use this template effectively.\n",
      "   - **Testing:** Consider adding tests to verify that the template renders correctly with various inputs and handles edge cases gracefully.\n",
      "   - **Consistency:** Check for consistency with existing templates to maintain a uniform experience across the project.\n"
     ]
    }
   ],
   "source": [
    "print(llm_output_w_code)"
   ]
  }
 ],
 "metadata": {
  "kernelspec": {
   "display_name": ".venv",
   "language": "python",
   "name": "python3"
  },
  "language_info": {
   "codemirror_mode": {
    "name": "ipython",
    "version": 3
   },
   "file_extension": ".py",
   "mimetype": "text/x-python",
   "name": "python",
   "nbconvert_exporter": "python",
   "pygments_lexer": "ipython3",
   "version": "3.12.8"
  }
 },
 "nbformat": 4,
 "nbformat_minor": 2
}
