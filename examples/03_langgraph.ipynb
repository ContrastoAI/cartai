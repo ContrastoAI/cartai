{
 "cells": [
  {
   "cell_type": "markdown",
   "metadata": {},
   "source": [
    "## Dummy pipeline"
   ]
  },
  {
   "cell_type": "code",
   "execution_count": 1,
   "metadata": {},
   "outputs": [],
   "source": [
    "from cartai.llm_agents.graph import CartaiGraph\n",
    "\n",
    "\n",
    "graph = CartaiGraph(config_file=\"../langgraph_config/dummy_config.yaml\")"
   ]
  },
  {
   "cell_type": "code",
   "execution_count": 2,
   "metadata": {},
   "outputs": [
    {
     "name": "stdout",
     "output_type": "stream",
     "text": [
      "                   +-----------+                     \n",
      "                   | __start__ |                     \n",
      "                   +-----------+                     \n",
      "                 ***            ***                  \n",
      "               **                  **                \n",
      "             **                      **              \n",
      "      +-------+                 +----------------+   \n",
      "      | dummy |                 | project_parser |   \n",
      "      +-------+                 +----------------+   \n",
      "          *                             *            \n",
      "          *                             *            \n",
      "          *                             *            \n",
      "+-------------------+         +-------------------+  \n",
      "| dummy_with_parent |         | readme_documenter |  \n",
      "+-------------------+         +-------------------+  \n",
      "                 ***            ***                  \n",
      "                    **        **                     \n",
      "                      **    **                       \n",
      "                    +---------+                      \n",
      "                    | __end__ |                      \n",
      "                    +---------+                      \n"
     ]
    }
   ],
   "source": [
    "graph.get_graph(ascii=True)"
   ]
  },
  {
   "cell_type": "code",
   "execution_count": 3,
   "metadata": {},
   "outputs": [
    {
     "data": {
      "text/plain": [
       "{'messages': ['0', 1, 1],\n",
       " 'project_context': {'structure': '📁 /\\n  📄 00_prompt_templ_parser.ipynb\\n  📄 01_code_parser.ipynb\\n  📄 02_pr_diff.ipynb\\n  📄 03_langgraph.ipynb'},\n",
       " 'outputs': [('ProjectStructure',\n",
       "   '📁 /\\n  📄 00_prompt_templ_parser.ipynb\\n  📄 01_code_parser.ipynb\\n  📄 02_pr_diff.ipynb\\n  📄 03_langgraph.ipynb'),\n",
       "  ('Documenter_readme',\n",
       "   \"# 🌟 Project Name 🌟\\n\\n## 📝 Description\\nThis project is designed to [provide a brief overview of what the project does, its purpose, and any relevant details that help users understand its functionality and goals]. \\n\\n## 📂 Codebase Structure\\n```\\n.\\n├── src/                # Source code directory\\n│   ├── main.py         # Main application file\\n│   ├── module1.py      # Example module 1\\n│   └── module2.py      # Example module 2\\n├── tests/              # Test directory\\n│   ├── test_module1.py  # Test cases for module 1\\n│   └── test_module2.py  # Test cases for module 2\\n├── Makefile            # Makefile for build and installation\\n└── README.md           # This README file\\n```\\n\\n## ⚙️ Installation\\nTo install the necessary dependencies and set up the environment, you can use the provided Makefile. Simply run the following command in your terminal:\\n\\n```bash\\nmake install\\n```\\n\\nThis command will install all required packages and dependencies.\\n\\n💻 Usage\\nTo run the project, you can use the following command:\\n\\n```bash\\nmake run\\n```\\n\\nThis will execute the main application. Make sure to check the code for specific instructions on how to use the features of the application.\\n\\n🚀 Deployment\\nFor deployment, you can use the following command:\\n\\n```bash\\nmake deploy\\n```\\n\\nThis command will handle the deployment process as defined in the Makefile. Ensure that you have the necessary configurations set up before deploying.\\n\\n## Contributing\\nWe welcome contributions!\\n\\n1. Fork the repository 🍴\\n2. Create your feature branch:\\n   ```bash\\n   git checkout -b feature/YourFeature\\n   ```\\n3. Commit your changes:\\n   ```bash\\n   git commit -m 'Add YourFeature'\\n   ```\\n4. Push to the branch:\\n   ```bash\\n   git push origin feature/YourFeature\\n   ```\\n5. Open a pull request 📬\\n\\nPlease follow the coding guidelines and check the Makefile or contributing docs if available.\")]}"
      ]
     },
     "execution_count": 3,
     "metadata": {},
     "output_type": "execute_result"
    }
   ],
   "source": [
    "from cartai.llm_agents.graph import CartaiDynamicState\n",
    "\n",
    "\n",
    "await graph.ainvoke(CartaiDynamicState(messages=[\"0\"]))"
   ]
  },
  {
   "cell_type": "code",
   "execution_count": 1,
   "metadata": {},
   "outputs": [
    {
     "data": {
      "text/plain": [
       "{'agents': [{'name': 'ReadmeDocumenter',\n",
       "   'description': 'A dummy agent that does nothing',\n",
       "   'logic': cartai.llm_agents.documenter.AIDocumenter,\n",
       "   'params': {'template_name': 'readme.jinja'}}]}"
      ]
     },
     "execution_count": 1,
     "metadata": {},
     "output_type": "execute_result"
    }
   ],
   "source": [
    "from cartai.llm_agents.utils.yaml_utils import YAMLUtils\n",
    "\n",
    "with open(\"../langgraph_config/repo_documenter.yaml\", \"r\") as file:\n",
    "    config = YAMLUtils.safe_load(file)\n",
    "config"
   ]
  }
 ],
 "metadata": {
  "kernelspec": {
   "display_name": ".venv",
   "language": "python",
   "name": "python3"
  },
  "language_info": {
   "codemirror_mode": {
    "name": "ipython",
    "version": 3
   },
   "file_extension": ".py",
   "mimetype": "text/x-python",
   "name": "python",
   "nbconvert_exporter": "python",
   "pygments_lexer": "ipython3",
   "version": "3.12.8"
  }
 },
 "nbformat": 4,
 "nbformat_minor": 2
}
