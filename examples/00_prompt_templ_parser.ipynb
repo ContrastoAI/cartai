{
 "cells": [
  {
   "cell_type": "code",
   "execution_count": 5,
   "metadata": {},
   "outputs": [],
   "source": [
    "from pathlib import Path\n",
    "from jinja2 import Template\n",
    "\n",
    "\n",
    "template_path = Path(\"../cartai/llm_agents/templates/readme.jinja\")\n",
    "\n",
    "with open(template_path, \"r\", encoding=\"utf-8\") as f:\n",
    "    template = Template(f.read())"
   ]
  },
  {
   "cell_type": "code",
   "execution_count": 6,
   "metadata": {},
   "outputs": [
    {
     "name": "stdout",
     "output_type": "stream",
     "text": [
      "You are a helpful assistant that generates a README.md file for a project.\n",
      "\n",
      "You will be given a description of the project, a list of technologies used, a codebase structure, and usage instructions.\n",
      "\n",
      "Follow the Makefile instructions to install dependencies and run the project. \n",
      "\n",
      "You will need to generate a README.md file that is easy to understand and use.\n",
      "\n",
      "Readme should be formatted using markdown. Proposed structure is as follows:\n",
      "\n",
      "# 🌟 Project Name 🌟\n",
      "\n",
      "## 📝 Description\n",
      "\n",
      "\n",
      "\n",
      "\n",
      "## 📂 Codebase Structure\n",
      "\n",
      "\n",
      "## ⚙️ Installation\n",
      "\n",
      "\n",
      "\n",
      "💻 Usage\n",
      "\n",
      "\n",
      "\n",
      "\n",
      "🚀 Deployment\n",
      "\n",
      "To deploy the project, please refer to the documentation or deployment section.\n",
      "\n",
      "\n",
      "\n",
      "\n",
      "\n",
      "We welcome contributions!\n",
      "\n",
      "Fork the repository 🍴\n",
      "\n",
      "Create your feature branch git checkout -b feature/YourFeature\n",
      "\n",
      "Commit your changes git commit -m 'Add YourFeature'\n",
      "\n",
      "Push to the branch git push origin feature/YourFeature\n",
      "\n",
      "Open a pull request 📬\n",
      "\n",
      "Please follow the coding guidelines and check the Makefile or contributing docs if available.\n",
      "\n",
      "\n"
     ]
    }
   ],
   "source": [
    "print(template.render())"
   ]
  },
  {
   "cell_type": "code",
   "execution_count": null,
   "metadata": {},
   "outputs": [],
   "source": []
  },
  {
   "cell_type": "code",
   "execution_count": null,
   "metadata": {},
   "outputs": [],
   "source": []
  }
 ],
 "metadata": {
  "kernelspec": {
   "display_name": ".venv",
   "language": "python",
   "name": "python3"
  },
  "language_info": {
   "codemirror_mode": {
    "name": "ipython",
    "version": 3
   },
   "file_extension": ".py",
   "mimetype": "text/x-python",
   "name": "python",
   "nbconvert_exporter": "python",
   "pygments_lexer": "ipython3",
   "version": "3.12.8"
  }
 },
 "nbformat": 4,
 "nbformat_minor": 2
}
